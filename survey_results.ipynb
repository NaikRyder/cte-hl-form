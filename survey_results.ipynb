{
  "nbformat": 4,
  "nbformat_minor": 0,
  "metadata": {
    "colab": {
      "provenance": [],
      "authorship_tag": "ABX9TyMKdIcKn53gRrzN+fLRU5Vs",
      "include_colab_link": true
    },
    "kernelspec": {
      "name": "python3",
      "display_name": "Python 3"
    },
    "language_info": {
      "name": "python"
    }
  },
  "cells": [
    {
      "cell_type": "markdown",
      "metadata": {
        "id": "view-in-github",
        "colab_type": "text"
      },
      "source": [
        "<a href=\"https://colab.research.google.com/github/NaikRyder/cte-survey/blob/main/survey_results.ipynb\" target=\"_parent\"><img src=\"https://colab.research.google.com/assets/colab-badge.svg\" alt=\"Open In Colab\"/></a>"
      ]
    },
    {
      "cell_type": "code",
      "source": [
        "import pandas as pd\n",
        "from google.colab import drive"
      ],
      "metadata": {
        "id": "MEg7zdp1Jmh9"
      },
      "execution_count": null,
      "outputs": []
    },
    {
      "cell_type": "code",
      "source": [
        "################# Input Layer #################\n",
        "\n",
        "# Read Excel workbooks from gdrive\n",
        "\n",
        "#Survey raw data\n",
        "file_id=\"1hJx2HCXsx5z4my6LXsSgiSFjGURezfm43OXndplWPw4\"\n",
        "workbook_results=pd.ExcelFile(f\"https://docs.google.com/spreadsheets/d/{file_id}/export?format=xlsx\")\n",
        "\n",
        "#Key file\n",
        "file_id=\"1R-4LQZAWZjHLXs2694YLQoetdNecDv4iwjZNNJwYbFY\"\n",
        "workbook_key=pd.ExcelFile(f\"https://docs.google.com/spreadsheets/d/{file_id}/export?format=xlsx\")\n"
      ],
      "metadata": {
        "id": "AKIXzfbEc5F9"
      },
      "execution_count": null,
      "outputs": []
    },
    {
      "cell_type": "code",
      "source": [
        "################# Transformation Layer #################\n",
        "\n",
        "# Define Likert Scale values\n",
        "likert_scale = {\n",
        "  \"nan\" : \"\",\n",
        "  \"strongly agree\" : 1,\n",
        "  \"agree\" : 2,\n",
        "  \"somewhat agree\" : 3,\n",
        "  \"neutral\": 4,\n",
        "  \"somewhat disagree\" : 5,\n",
        "  \"disagree\" : 6,\n",
        "  \"strongly disagree\" : 7,\n",
        "  \"true\" : 2,\n",
        "  \"false\" : 6,\n",
        "  \"somewhat true\" : 3,\n",
        "  \"somewhat false\" : 5,\n",
        "  \"definitely true\" : 1,\n",
        "  \"definitely false\" : 7,\n",
        "  \"positively true\" : 1,\n",
        "  \"probably true\" : 3,\n",
        "  \"probably untrue\" : 5,\n",
        "  \"positively untrue\" : 7,\n",
        "  \"completely agree\" : 1,\n",
        "  \"completely disagree\" : 7,\n",
        "  \"strongly agree, agree, somewhat agree, somewhat disagree, disagree, strongly disagree\" : 4\n",
        "}\n",
        "\n",
        "# Define dataframes\n",
        "df_student_key = workbook_key.parse(1)\n",
        "df = {}\n",
        "\n",
        "# Get number of sheets in the workbook and parse into a dataframe array\n",
        "sheet_names = workbook_results.sheet_names\n",
        "sheet_count=len(sheet_names)-1\n",
        "for i in range(0,sheet_count):\n",
        "  df[i]=workbook_results.parse(i)\n",
        "\n",
        "# Data Cleaning\n",
        "df_student_key['Email Address'] = df_student_key['Email Address'].str.lower()\n",
        "\n",
        "for i in range(0,sheet_count):\n",
        "    # Convert Email Address to lower case\n",
        "    df[i]['Email Address'] = df[i]['Email Address'].str.lower()\n",
        "\n",
        "    # Drop duplicate Email Addresses\n",
        "    df[i] = df[i].sort_values('Timestamp').drop_duplicates(['Email Address'], keep='last')\n",
        "\n",
        "    # Drop repeated columns in next tables\n",
        "    df[i] = df[i].drop(['First Name','Last Name', 'Please give your first name and last name initial.', 'Email Address.1'], axis=1, errors='ignore')\n",
        "\n",
        "    # Get object columns\n",
        "    cols = df[i].columns[df[i].dtypes == 'object']\n",
        "\n",
        "    # Check for text columns\n",
        "    for c in cols:\n",
        "\n",
        "      # Convert object values to lower case strings\n",
        "      df[i][c] = df[i][c].astype(str).apply(str.lower)\n",
        "\n",
        "    # Replace string with Likert Scale values\n",
        "    df[i][cols] = df[i][cols].replace(likert_scale)\n",
        "\n",
        "# Left join key with every worksheet\n",
        "for i in range(0,sheet_count):\n",
        "  df[i] = df_student_key.merge(df[i], how='left', on='Email Address')\n"
      ],
      "metadata": {
        "id": "dlJDxAsJJdIT"
      },
      "execution_count": null,
      "outputs": []
    },
    {
      "cell_type": "code",
      "source": [
        "################# Output Layer #################\n",
        "\n",
        "# Convert dataframe into a .csv file and save it to gdrive\n",
        "drive.mount('/content/drive')\n",
        "path = '/content/drive/My Drive/Survey Results/survey_data/transformed_result.xlsx'\n",
        "with pd.ExcelWriter(path) as writer:\n",
        "  for i in range(0,sheet_count):\n",
        "    df[i].to_excel(writer, sheet_name=sheet_names[i], index=False)\n"
      ],
      "metadata": {
        "id": "JQl-X40dzoZJ",
        "colab": {
          "base_uri": "https://localhost:8080/"
        },
        "outputId": "bcb8bd3a-2343-4046-84e6-58ad20cbc8f4"
      },
      "execution_count": null,
      "outputs": [
        {
          "output_type": "stream",
          "name": "stdout",
          "text": [
            "Mounted at /content/drive\n"
          ]
        }
      ]
    }
  ]
}